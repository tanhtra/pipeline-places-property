{
 "cells": [
  {
   "cell_type": "code",
   "execution_count": 5,
   "metadata": {},
   "outputs": [],
   "source": [
    "import os\n",
    "import pandas as pd\n",
    "import requests\n",
    "import snowflake.connector\n",
    "from snowflake.connector.pandas_tools import write_pandas\n",
    "from dotenv import load_dotenv\n",
    "\n",
    "import time"
   ]
  },
  {
   "cell_type": "code",
   "execution_count": 6,
   "metadata": {},
   "outputs": [
    {
     "data": {
      "text/html": [
       "<div>\n",
       "<style scoped>\n",
       "    .dataframe tbody tr th:only-of-type {\n",
       "        vertical-align: middle;\n",
       "    }\n",
       "\n",
       "    .dataframe tbody tr th {\n",
       "        vertical-align: top;\n",
       "    }\n",
       "\n",
       "    .dataframe thead th {\n",
       "        text-align: right;\n",
       "    }\n",
       "</style>\n",
       "<table border=\"1\" class=\"dataframe\">\n",
       "  <thead>\n",
       "    <tr style=\"text-align: right;\">\n",
       "      <th></th>\n",
       "      <th>CODE</th>\n",
       "      <th>NAME</th>\n",
       "      <th>LAT</th>\n",
       "      <th>LONG</th>\n",
       "      <th>COORD</th>\n",
       "    </tr>\n",
       "  </thead>\n",
       "  <tbody>\n",
       "    <tr>\n",
       "      <th>0</th>\n",
       "      <td>G1</td>\n",
       "      <td>Krung Thon Buri</td>\n",
       "      <td>13.72083</td>\n",
       "      <td>100.50278</td>\n",
       "      <td>13.72083,100.50278</td>\n",
       "    </tr>\n",
       "    <tr>\n",
       "      <th>1</th>\n",
       "      <td>G2</td>\n",
       "      <td>Charoen Nakhon</td>\n",
       "      <td>13.72650</td>\n",
       "      <td>100.50900</td>\n",
       "      <td>13.7265,100.509</td>\n",
       "    </tr>\n",
       "    <tr>\n",
       "      <th>2</th>\n",
       "      <td>G3</td>\n",
       "      <td>Khlong San</td>\n",
       "      <td>13.73040</td>\n",
       "      <td>100.50760</td>\n",
       "      <td>13.7304,100.5076</td>\n",
       "    </tr>\n",
       "    <tr>\n",
       "      <th>3</th>\n",
       "      <td>PP02</td>\n",
       "      <td>Talad Bang Yai</td>\n",
       "      <td>13.88096</td>\n",
       "      <td>100.40924</td>\n",
       "      <td>13.88096,100.40924</td>\n",
       "    </tr>\n",
       "    <tr>\n",
       "      <th>4</th>\n",
       "      <td>PP01</td>\n",
       "      <td>Khlong Bang Phai</td>\n",
       "      <td>13.89242</td>\n",
       "      <td>100.40827</td>\n",
       "      <td>13.89242,100.40827</td>\n",
       "    </tr>\n",
       "  </tbody>\n",
       "</table>\n",
       "</div>"
      ],
      "text/plain": [
       "   CODE              NAME       LAT       LONG               COORD\n",
       "0    G1   Krung Thon Buri  13.72083  100.50278  13.72083,100.50278\n",
       "1    G2    Charoen Nakhon  13.72650  100.50900     13.7265,100.509\n",
       "2    G3        Khlong San  13.73040  100.50760    13.7304,100.5076\n",
       "3  PP02    Talad Bang Yai  13.88096  100.40924  13.88096,100.40924\n",
       "4  PP01  Khlong Bang Phai  13.89242  100.40827  13.89242,100.40827"
      ]
     },
     "execution_count": 6,
     "metadata": {},
     "output_type": "execute_result"
    }
   ],
   "source": [
    "load_dotenv()\n",
    "\n",
    "host = os.environ.get(\"snowflake_host\")\n",
    "user = os.environ.get(\"snowflake_user\")\n",
    "password = os.environ.get(\"snowflake_password\")\n",
    "account = os.environ.get(\"snowflake_account\")\n",
    "warehouse = os.environ.get(\"snowflake_warehouse\")\n",
    "database = os.environ.get(\"snowflake_database\")\n",
    "schema = os.environ.get(\"snowflake_schema\")\n",
    "\n",
    "query = \"select * from DBT_PROJECT03.stg__transit_data\"\n",
    "connector = snowflake.connector.connect(\n",
    "    host=host,\n",
    "    user=user,\n",
    "    password=password,\n",
    "    account=account,\n",
    "    warehouse=warehouse,\n",
    "    database=database,\n",
    "    schema=schema)\n",
    "\n",
    "try:\n",
    "    cursor = connector.cursor().execute(query)\n",
    "finally:\n",
    "    connector.close()\n",
    "\n",
    "df = cursor.fetch_pandas_all()\n",
    "df['COORD'] = df[['LAT', 'LONG']].astype(str).apply(','.join, axis=1)\n",
    "\n",
    "df.head()"
   ]
  },
  {
   "cell_type": "code",
   "execution_count": 7,
   "metadata": {},
   "outputs": [],
   "source": [
    "def query_places(code, location):\n",
    "\n",
    "    places_data = []\n",
    "    df_temp = None\n",
    "    url = \"https://api.foursquare.com/v3/places/search\"\n",
    "    api_key = os.environ.get(\"places_api_key\")\n",
    "\n",
    "    params = {\n",
    "        \"ll\": location,\n",
    "        \"sort\":\"DISTANCE\",\n",
    "        \"radius\":\"100000\",\n",
    "        \"categories\":\"10000,13000,17000\",\n",
    "        \"limit\":\"50\"\n",
    "    }\n",
    "\n",
    "    headers = {\n",
    "        \"Accept\": \"application/json\",\n",
    "        \"Authorization\": api_key\n",
    "    }\n",
    "\n",
    "    response = requests.request(\"GET\", url, params=params, headers=headers)\n",
    "\n",
    "    if response.status_code == 200: \n",
    "        places_data.append(response.json())\n",
    "        df_temp = pd.json_normalize(places_data, record_path=['results'])\n",
    "        df_temp.drop(columns=['categories'], inplace=True)\n",
    "\n",
    "        df_extract = df_temp[['fsq_id', 'name', 'geocodes.main.latitude', 'geocodes.main.longitude', 'location.formatted_address']]\n",
    "\n",
    "        os.makedirs('data', exist_ok=True)\n",
    "        df_extract.to_csv(f'data/{code}_places.csv', index=False)\n",
    "\n",
    "    return df_extract"
   ]
  },
  {
   "cell_type": "code",
   "execution_count": 8,
   "metadata": {},
   "outputs": [],
   "source": [
    "df['RESULT'] = df.apply(lambda x: query_places(x['CODE'], x['COORD']), axis=1)"
   ]
  },
  {
   "cell_type": "code",
   "execution_count": null,
   "metadata": {},
   "outputs": [],
   "source": []
  }
 ],
 "metadata": {
  "kernelspec": {
   "display_name": "Python 3.9.13 ('bootcamp')",
   "language": "python",
   "name": "python3"
  },
  "language_info": {
   "codemirror_mode": {
    "name": "ipython",
    "version": 3
   },
   "file_extension": ".py",
   "mimetype": "text/x-python",
   "name": "python",
   "nbconvert_exporter": "python",
   "pygments_lexer": "ipython3",
   "version": "3.9.13"
  },
  "orig_nbformat": 4,
  "vscode": {
   "interpreter": {
    "hash": "5f407b1b582e764af1de92d08149f3039a2cd11cf3017e26c4cc8e85f5896eb3"
   }
  }
 },
 "nbformat": 4,
 "nbformat_minor": 2
}
