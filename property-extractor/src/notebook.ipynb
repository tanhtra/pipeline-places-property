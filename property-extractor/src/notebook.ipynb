{
 "cells": [
  {
   "cell_type": "code",
   "execution_count": 33,
   "metadata": {},
   "outputs": [],
   "source": [
    "import pandas as pd\n",
    "import json\n",
    "\n",
    "import requests\n",
    "import time\n",
    "from bs4 import BeautifulSoup\n",
    "from urllib.request import Request, urlopen"
   ]
  },
  {
   "cell_type": "code",
   "execution_count": 6,
   "metadata": {},
   "outputs": [],
   "source": [
    "# Index Page Crawler\n",
    "URL = 'https://www.thailand-property.com/condos/all/bangkok'\n",
    "page = requests.get(URL, headers={'User-Agent': 'Mozilla/5.0'})\n",
    "\n",
    "soup = BeautifulSoup(page.content, \"html.parser\")"
   ]
  },
  {
   "cell_type": "code",
   "execution_count": 7,
   "metadata": {},
   "outputs": [
    {
     "name": "stdout",
     "output_type": "stream",
     "text": [
      "100\n"
     ]
    }
   ],
   "source": [
    "index_content = soup.find(id=\"content\")\n",
    "project_count = index_content.find('span', id=\"properties_total\").text\n",
    "\n",
    "project_count = int(project_count.replace(',',''))\n",
    "project_page = int(project_count / 20) + 1\n",
    "print(project_page)"
   ]
  },
  {
   "cell_type": "code",
   "execution_count": 12,
   "metadata": {},
   "outputs": [
    {
     "name": "stdout",
     "output_type": "stream",
     "text": [
      "https://www.thailand-property.com/condos/all/bangkok?page=1\n",
      "https://www.thailand-property.com/condos/all/bangkok?page=2\n",
      "https://www.thailand-property.com/condos/all/bangkok?page=3\n",
      "https://www.thailand-property.com/condos/all/bangkok?page=4\n",
      "https://www.thailand-property.com/condos/all/bangkok?page=5\n"
     ]
    }
   ],
   "source": [
    "for i in range(1,6):\n",
    "    current = f\"{URL}?page={i}\"\n",
    "    print(current)\n"
   ]
  },
  {
   "cell_type": "code",
   "execution_count": 29,
   "metadata": {},
   "outputs": [],
   "source": [
    "def index_crawler(URL):\n",
    "    # Index Page Entry\n",
    "\n",
    "    page = requests.get(URL, headers={'User-Agent': 'Mozilla/5.0'})\n",
    "\n",
    "    soup = BeautifulSoup(page.content, \"html.parser\")\n",
    "    result_block = soup.find(id=\"search-results\")\n",
    "\n",
    "    projects = result_block.find_all('article','projects-list')\n",
    "\n",
    "    for project in projects:\n",
    "        project_name = project.find('h4', class_='project-name').text\n",
    "        project_url = project.find('a')['href']\n",
    "        project_vacancy = project.find('div', class_='project-total-units').find_all('a')\n",
    "        project_rent = project_vacancy[1].text.strip().split()[0]\n",
    "        project_sale = project_vacancy[0].text.strip().split()[0]\n",
    "\n",
    "        if None not in (project_name, project_url):\n",
    "            project_index = {\n",
    "                'project_name' : project_name,\n",
    "                'project_url' : project_url,\n",
    "                'project_rent' : project_rent,\n",
    "                'project_sale' : project_sale\n",
    "            } \n",
    "            jd = json.dumps(project_index)\n",
    "            time.sleep(1)\n",
    "            yield jd\n",
    "    return"
   ]
  },
  {
   "cell_type": "code",
   "execution_count": null,
   "metadata": {},
   "outputs": [],
   "source": [
    "URL = 'https://www.thailand-property.com/condos/all/bangkok'\n",
    "limit = -1\n",
    "# Index Page Crawler\n",
    "page = requests.get(URL, headers={'User-Agent': 'Mozilla/5.0'})\n",
    "\n",
    "soup = BeautifulSoup(page.content, \"html.parser\")\n",
    "index_content = soup.find(id=\"content\")\n",
    "\n",
    "project_count = index_content.find('span', id=\"properties_total\").text\n",
    "\n",
    "project_count = int(project_count.replace(',',''))\n",
    "project_page = int(project_count / 20) + 1\n",
    "\n",
    "if limit != -1:\n",
    "    project_page = limit\n",
    "\n",
    "for i in range(1,project_page):\n",
    "    for jd in index_crawler(f\"{URL}?page={i}\"):\n",
    "        print(jd)"
   ]
  },
  {
   "cell_type": "code",
   "execution_count": 21,
   "metadata": {},
   "outputs": [
    {
     "name": "stdout",
     "output_type": "stream",
     "text": [
      "{\"project_name\": \"The Prive Ratchadapisek 19\", \"project_url\": \"https://www.thailand-property.com/condo/19340/the-prive-ratchadapisek-19\", \"project_rent\": \"0\", \"project_sale\": \"1\"}\n",
      "{\"project_name\": \"Raveevan Space\", \"project_url\": \"https://www.thailand-property.com/condo/19255/raveevan-space\", \"project_rent\": \"15\", \"project_sale\": \"0\"}\n",
      "{\"project_name\": \"Aspire Sukhumvit - Rama 4\", \"project_url\": \"https://www.thailand-property.com/condo/19185/aspire-sukhumvit-rama-4\", \"project_rent\": \"1\", \"project_sale\": \"3\"}\n",
      "{\"project_name\": \"Niche Mono Rama 9\", \"project_url\": \"https://www.thailand-property.com/condo/19115/niche-mono-rama-9\", \"project_rent\": \"0\", \"project_sale\": \"14\"}\n",
      "{\"project_name\": \"S47 Sukhumvit\", \"project_url\": \"https://www.thailand-property.com/condo/19038/s47-sukhumvit\", \"project_rent\": \"0\", \"project_sale\": \"26\"}\n",
      "{\"project_name\": \"Prasanmitr Place\", \"project_url\": \"https://www.thailand-property.com/condo/19029/prasanmitr-place\", \"project_rent\": \"17\", \"project_sale\": \"0\"}\n",
      "{\"project_name\": \"The Origin Onnut\", \"project_url\": \"https://www.thailand-property.com/condo/18967/the-origin-onnut\", \"project_rent\": \"1\", \"project_sale\": \"0\"}\n",
      "{\"project_name\": \"COCO Parc\", \"project_url\": \"https://www.thailand-property.com/condo/18918/coco-parc\", \"project_rent\": \"0\", \"project_sale\": \"24\"}\n",
      "{\"project_name\": \"Reference Sathorn - Wongwianyai\", \"project_url\": \"https://www.thailand-property.com/condo/18775/reference-sathorn-wongwianyai\", \"project_rent\": \"0\", \"project_sale\": \"13\"}\n",
      "{\"project_name\": \"NUE Evo Ari\", \"project_url\": \"https://www.thailand-property.com/condo/18768/nue-evo-ari\", \"project_rent\": \"0\", \"project_sale\": \"26\"}\n",
      "{\"project_name\": \"Lumpini Place Taopoon-Interchange\", \"project_url\": \"https://www.thailand-property.com/condo/18729/lumpini-place-taopoon-interchange\", \"project_rent\": \"1\", \"project_sale\": \"0\"}\n",
      "{\"project_name\": \"Ideo Chula \\u2013 Samyan\", \"project_url\": \"https://www.thailand-property.com/condo/18709/ideo-chula-samyan\", \"project_rent\": \"0\", \"project_sale\": \"18\"}\n",
      "{\"project_name\": \"125 Sathorn\", \"project_url\": \"https://www.thailand-property.com/condo/18694/125-sathorn\", \"project_rent\": \"0\", \"project_sale\": \"2\"}\n",
      "{\"project_name\": \"iCheck Inn Residence Sathorn\", \"project_url\": \"https://www.thailand-property.com/condo/18678/icheck-inn-residence-sathorn\", \"project_rent\": \"5\", \"project_sale\": \"0\"}\n",
      "{\"project_name\": \"Plum Condo Sukhumvit 97.1\", \"project_url\": \"https://www.thailand-property.com/condo/18666/plum-condo-sukhumvit-971\", \"project_rent\": \"0\", \"project_sale\": \"1\"}\n",
      "{\"project_name\": \"SO Origin Phahol 69 Station\", \"project_url\": \"https://www.thailand-property.com/condo/18642/so-origin-phahol-69-station\", \"project_rent\": \"0\", \"project_sale\": \"1\"}\n",
      "{\"project_name\": \"NUE District R9\", \"project_url\": \"https://www.thailand-property.com/condo/18602/nue-district-r9\", \"project_rent\": \"0\", \"project_sale\": \"2\"}\n",
      "{\"project_name\": \"Life Rama 4 - Asoke\", \"project_url\": \"https://www.thailand-property.com/condo/18499/life-rama-4-asoke\", \"project_rent\": \"0\", \"project_sale\": \"118\"}\n",
      "{\"project_name\": \"SCOPE Langsuan\", \"project_url\": \"https://www.thailand-property.com/condo/18425/scope-langsuan\", \"project_rent\": \"0\", \"project_sale\": \"80\"}\n",
      "{\"project_name\": \"Glory Sukhumvit 31\", \"project_url\": \"https://www.thailand-property.com/condo/18391/glory-sukhumvit-31\", \"project_rent\": \"6\", \"project_sale\": \"0\"}\n"
     ]
    }
   ],
   "source": [
    "URL = 'https://www.thailand-property.com/condos/all/bangkok'\n",
    "page = requests.get(URL, headers={'User-Agent': 'Mozilla/5.0'})\n",
    "\n",
    "soup = BeautifulSoup(page.content, \"html.parser\")\n",
    "result_block = soup.find(id=\"search-results\")\n",
    "\n",
    "projects = result_block.find_all('article','projects-list')\n",
    "\n",
    "for project in projects:\n",
    "    project_name = project.find('h4', class_='project-name').text\n",
    "    project_url = project.find('a')['href']\n",
    "    project_vacancy = project.find('div', class_='project-total-units').find_all('a')\n",
    "    project_rent = project_vacancy[1].text.strip().split()[0]\n",
    "    project_sale = project_vacancy[0].text.strip().split()[0]\n",
    "\n",
    "    if None not in (project_name, project_url):\n",
    "        project_index = {\n",
    "            'project_name' : project_name,\n",
    "            'project_url' : project_url,\n",
    "            'project_rent' : project_rent,\n",
    "            'project_sale' : project_sale\n",
    "        } \n",
    "        jd = json.dumps(project_index)\n",
    "    else:\n",
    "        print('None value detected')\n",
    "\n",
    "    print(jd)"
   ]
  },
  {
   "cell_type": "code",
   "execution_count": 38,
   "metadata": {},
   "outputs": [],
   "source": [
    "URL = 'https://www.thailand-property.com/condo/8180/the-pano-rama-3'\n",
    "page = requests.get(URL, headers={'User-Agent': 'Mozilla/5.0'})\n",
    "\n",
    "soup = BeautifulSoup(page.content, \"html.parser\")\n",
    "container_block = soup.find(class_=\"main-container\")\n",
    "\n",
    "project_url = URL\n",
    "\n",
    "project_detail_name = container_block.find('h1', class_='page-title').text.strip()\n",
    "project_detail_features = container_block.find('ul', class_='features').find_all('li')\n",
    "project_detail_features_list = [ feature.text.strip() for feature in project_detail_features ]\n",
    "\n",
    "project_detail_meta = container_block.find('ul', class_='project-li-top')\n",
    "\n",
    "project_detail_floors = project_detail_meta.find('span', text='Floors').next_sibling.next_sibling.text.strip()\n",
    "project_detail_developer = project_detail_meta.find('span', text='Developed by').next_sibling.next_sibling.text.strip()\n",
    "project_detail_year = project_detail_meta.find('span', text='Year built').next_sibling.next_sibling.text.strip()\n",
    "\n",
    "project_map = container_block.find('a', id='go-to-map').find('img')['src']\n",
    "\n",
    "project_vacancy_sale = container_block.find('a', id='open-tab-sale').text\n",
    "project_vacancy_rent = container_block.find('a', id='open-tab-rent').text"
   ]
  },
  {
   "cell_type": "code",
   "execution_count": 39,
   "metadata": {},
   "outputs": [
    {
     "name": "stdout",
     "output_type": "stream",
     "text": [
      "{'project_url': 'https://www.thailand-property.com/condo/8180/the-pano-rama-3', 'project_name': 'The Pano Rama 3', 'project_features': ['CCTV', 'Garden', 'Parking', 'Security', 'Swimming Pool', 'Wi Fi'], 'project_floors': '55', 'project_developer': 'KLAND', 'project_year': 'KLAND', 'project_map': '2010', 'project_sale': '94 units', 'project_rent': '60 units'}\n"
     ]
    }
   ],
   "source": [
    "project_details = {\n",
    "    \"project_url\" : project_url,\n",
    "    \"project_name\" : project_detail_name,\n",
    "    \"project_features\" : project_detail_features_list,\n",
    "    \"project_floors\" : project_detail_floors,\n",
    "    \"project_developer\" : project_detail_developer,\n",
    "    \"project_year\" : project_detail_developer,\n",
    "    \"project_map\" : project_detail_year,\n",
    "    \"project_sale\" : project_vacancy_sale,\n",
    "    \"project_rent\" : project_vacancy_rent\n",
    "}\n",
    "print(project_details)"
   ]
  },
  {
   "cell_type": "code",
   "execution_count": 35,
   "metadata": {},
   "outputs": [
    {
     "data": {
      "text/html": [
       "<div>\n",
       "<style scoped>\n",
       "    .dataframe tbody tr th:only-of-type {\n",
       "        vertical-align: middle;\n",
       "    }\n",
       "\n",
       "    .dataframe tbody tr th {\n",
       "        vertical-align: top;\n",
       "    }\n",
       "\n",
       "    .dataframe thead th {\n",
       "        text-align: right;\n",
       "    }\n",
       "</style>\n",
       "<table border=\"1\" class=\"dataframe\">\n",
       "  <thead>\n",
       "    <tr style=\"text-align: right;\">\n",
       "      <th></th>\n",
       "      <th>NAME</th>\n",
       "      <th>URL</th>\n",
       "      <th>RENT</th>\n",
       "      <th>SALE</th>\n",
       "    </tr>\n",
       "  </thead>\n",
       "  <tbody>\n",
       "    <tr>\n",
       "      <th>0</th>\n",
       "      <td>Story at Bangkok</td>\n",
       "      <td>https://www.thailand-property.com/condo/18269/...</td>\n",
       "      <td>1</td>\n",
       "      <td>0</td>\n",
       "    </tr>\n",
       "    <tr>\n",
       "      <th>1</th>\n",
       "      <td>A.S. Place</td>\n",
       "      <td>https://www.thailand-property.com/condo/18291/...</td>\n",
       "      <td>4</td>\n",
       "      <td>1</td>\n",
       "    </tr>\n",
       "    <tr>\n",
       "      <th>2</th>\n",
       "      <td>Rise Charoennakhon</td>\n",
       "      <td>https://www.thailand-property.com/condo/18381/...</td>\n",
       "      <td>0</td>\n",
       "      <td>9</td>\n",
       "    </tr>\n",
       "    <tr>\n",
       "      <th>3</th>\n",
       "      <td>iCheck Inn Residence Sathorn</td>\n",
       "      <td>https://www.thailand-property.com/condo/18678/...</td>\n",
       "      <td>5</td>\n",
       "      <td>0</td>\n",
       "    </tr>\n",
       "    <tr>\n",
       "      <th>4</th>\n",
       "      <td>Sriratana Mansion 1</td>\n",
       "      <td>https://www.thailand-property.com/condo/18288/...</td>\n",
       "      <td>24</td>\n",
       "      <td>0</td>\n",
       "    </tr>\n",
       "  </tbody>\n",
       "</table>\n",
       "</div>"
      ],
      "text/plain": [
       "                           NAME  \\\n",
       "0              Story at Bangkok   \n",
       "1                    A.S. Place   \n",
       "2            Rise Charoennakhon   \n",
       "3  iCheck Inn Residence Sathorn   \n",
       "4           Sriratana Mansion 1   \n",
       "\n",
       "                                                 URL RENT SALE  \n",
       "0  https://www.thailand-property.com/condo/18269/...    1    0  \n",
       "1  https://www.thailand-property.com/condo/18291/...    4    1  \n",
       "2  https://www.thailand-property.com/condo/18381/...    0    9  \n",
       "3  https://www.thailand-property.com/condo/18678/...    5    0  \n",
       "4  https://www.thailand-property.com/condo/18288/...   24    0  "
      ]
     },
     "execution_count": 35,
     "metadata": {},
     "output_type": "execute_result"
    }
   ],
   "source": [
    "import os\n",
    "import snowflake.connector\n",
    "from snowflake.connector.pandas_tools import write_pandas\n",
    "from dotenv import load_dotenv\n",
    "\n",
    "load_dotenv()\n",
    "\n",
    "host = os.environ.get(\"snowflake_host\")\n",
    "user = os.environ.get(\"snowflake_user\")\n",
    "password = os.environ.get(\"snowflake_password\")\n",
    "account = os.environ.get(\"snowflake_account\")\n",
    "warehouse = os.environ.get(\"snowflake_warehouse\")\n",
    "database = os.environ.get(\"snowflake_database\")\n",
    "schema = os.environ.get(\"snowflake_schema\")\n",
    "\n",
    "query = \"select * from DBT_PROJECT03.STG__PROJECTS_LIST\"\n",
    "connector = snowflake.connector.connect(\n",
    "    host=host,\n",
    "    user=user,\n",
    "    password=password,\n",
    "    account=account,\n",
    "    warehouse=warehouse,\n",
    "    database=database,\n",
    "    schema=schema)\n",
    "\n",
    "try:\n",
    "    cursor = connector.cursor().execute(query)\n",
    "finally:\n",
    "    connector.close()\n",
    "\n",
    "df = cursor.fetch_pandas_all()\n",
    "\n",
    "df.head()"
   ]
  },
  {
   "cell_type": "code",
   "execution_count": 41,
   "metadata": {},
   "outputs": [],
   "source": [
    "urls = df['URL'].to_list()"
   ]
  },
  {
   "cell_type": "code",
   "execution_count": 47,
   "metadata": {},
   "outputs": [
    {
     "data": {
      "text/plain": [
       "<enumerate at 0x7f8ab9e1a9c0>"
      ]
     },
     "execution_count": 47,
     "metadata": {},
     "output_type": "execute_result"
    }
   ],
   "source": [
    "enumerate(urls)"
   ]
  },
  {
   "cell_type": "code",
   "execution_count": 46,
   "metadata": {},
   "outputs": [
    {
     "data": {
      "text/plain": [
       "['https://www.thailand-property.com/condo/18269/story-at-bangkok',\n",
       " 'https://www.thailand-property.com/condo/18291/as-place',\n",
       " 'https://www.thailand-property.com/condo/18381/rise-charoennakhon',\n",
       " 'https://www.thailand-property.com/condo/18678/icheck-inn-residence-sathorn',\n",
       " 'https://www.thailand-property.com/condo/18288/sriratana-mansion-1',\n",
       " 'https://www.thailand-property.com/condo/18313/silom-state-tower',\n",
       " 'https://www.thailand-property.com/condo/18290/kp-villa',\n",
       " 'https://www.thailand-property.com/condo/18499/life-rama-4-asoke',\n",
       " 'https://www.thailand-property.com/condo/19115/niche-mono-rama-9',\n",
       " 'https://www.thailand-property.com/condo/18321/23-residence',\n",
       " 'https://www.thailand-property.com/condo/18425/scope-langsuan',\n",
       " 'https://www.thailand-property.com/condo/19255/raveevan-space',\n",
       " 'https://www.thailand-property.com/condo/18301/parkview-viphavadi-2',\n",
       " 'https://www.thailand-property.com/condo/19340/the-prive-ratchadapisek-19',\n",
       " 'https://www.thailand-property.com/condo/19185/aspire-sukhumvit-rama-4',\n",
       " 'https://www.thailand-property.com/condo/18768/nue-evo-ari',\n",
       " 'https://www.thailand-property.com/condo/18295/rishi-court',\n",
       " 'https://www.thailand-property.com/condo/18304/ivory-ratchada-ladprao',\n",
       " 'https://www.thailand-property.com/condo/18694/125-sathorn',\n",
       " 'https://www.thailand-property.com/condo/18350/the-shade-sathon-1',\n",
       " 'https://www.thailand-property.com/condo/18729/lumpini-place-taopoon-interchange',\n",
       " 'https://www.thailand-property.com/condo/18332/quintara-kynett-ratchada-12',\n",
       " 'https://www.thailand-property.com/condo/18666/plum-condo-sukhumvit-971',\n",
       " 'https://www.thailand-property.com/condo/19029/prasanmitr-place',\n",
       " 'https://www.thailand-property.com/condo/18334/msi-iii-garden',\n",
       " 'https://www.thailand-property.com/condo/18361/m-towers',\n",
       " 'https://www.thailand-property.com/condo/18775/reference-sathorn-wongwianyai',\n",
       " 'https://www.thailand-property.com/condo/18709/ideo-chula-samyan',\n",
       " 'https://www.thailand-property.com/condo/18244/ambassador-s-court',\n",
       " 'https://www.thailand-property.com/condo/18238/icondo-green-space-sukhumvit-77-phase-2',\n",
       " 'https://www.thailand-property.com/condo/18260/condo-u-vibha-ladprao',\n",
       " 'https://www.thailand-property.com/condo/18602/nue-district-r9',\n",
       " 'https://www.thailand-property.com/condo/18391/glory-sukhumvit-31',\n",
       " 'https://www.thailand-property.com/condo/18642/so-origin-phahol-69-station',\n",
       " 'https://www.thailand-property.com/condo/18967/the-origin-onnut',\n",
       " 'https://www.thailand-property.com/condo/18345/plum-condo-chaengwattana-station-phase-2',\n",
       " 'https://www.thailand-property.com/condo/18305/civic-place',\n",
       " 'https://www.thailand-property.com/condo/19038/s47-sukhumvit',\n",
       " 'https://www.thailand-property.com/condo/18342/anna-villa',\n",
       " 'https://www.thailand-property.com/condo/18918/coco-parc']"
      ]
     },
     "execution_count": 46,
     "metadata": {},
     "output_type": "execute_result"
    }
   ],
   "source": [
    "urls"
   ]
  },
  {
   "cell_type": "code",
   "execution_count": null,
   "metadata": {},
   "outputs": [],
   "source": []
  }
 ],
 "metadata": {
  "kernelspec": {
   "display_name": "Python 3.9.13 ('bootcamp')",
   "language": "python",
   "name": "python3"
  },
  "language_info": {
   "codemirror_mode": {
    "name": "ipython",
    "version": 3
   },
   "file_extension": ".py",
   "mimetype": "text/x-python",
   "name": "python",
   "nbconvert_exporter": "python",
   "pygments_lexer": "ipython3",
   "version": "3.9.13"
  },
  "orig_nbformat": 4,
  "vscode": {
   "interpreter": {
    "hash": "5f407b1b582e764af1de92d08149f3039a2cd11cf3017e26c4cc8e85f5896eb3"
   }
  }
 },
 "nbformat": 4,
 "nbformat_minor": 2
}
