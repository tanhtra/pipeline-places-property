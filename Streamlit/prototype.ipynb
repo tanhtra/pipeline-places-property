{
 "cells": [
  {
   "cell_type": "code",
   "execution_count": 1,
   "metadata": {},
   "outputs": [],
   "source": [
    "\n",
    "import numpy as np\n",
    "import altair as alt\n",
    "import pandas as pd\n",
    "\n",
    "import snowflake.connector\n",
    "from snowflake.connector.pandas_tools import write_pandas\n",
    "\n",
    "import streamlit as st"
   ]
  },
  {
   "cell_type": "code",
   "execution_count": 5,
   "metadata": {},
   "outputs": [
    {
     "name": "stderr",
     "output_type": "stream",
     "text": [
      "2022-12-07 23:45:59.479 Snowflake Connector for Python Version: 2.7.12, Python Version: 3.9.13, Platform: macOS-10.16-x86_64-i386-64bit\n",
      "2022-12-07 23:45:59.480 This connection is in OCSP Fail Open Mode. TLS Certificates would be checked for validity and revocation status. Any other Certificate Revocation related exceptions or OCSP Responder failures would be disregarded in favor of connectivity.\n",
      "2022-12-07 23:45:59.483 Setting use_openssl_only mode to False\n"
     ]
    }
   ],
   "source": [
    "host = st.secrets['snowflake']['host']\n",
    "user = st.secrets['snowflake']['user']\n",
    "password = st.secrets['snowflake']['password']\n",
    "account = st.secrets['snowflake']['account']\n",
    "warehouse = st.secrets['snowflake']['warehouse']\n",
    "database = st.secrets['snowflake']['database']\n",
    "schema = st.secrets['snowflake']['schema']\n",
    "\n",
    "query = \"select * from RAW.JSON__INDEX_META\"\n",
    "connector = snowflake.connector.connect(\n",
    "    host=host,\n",
    "    user=user,\n",
    "    password=password,\n",
    "    account=account,\n",
    "    warehouse=warehouse,\n",
    "    database=database,\n",
    "    schema=schema)"
   ]
  },
  {
   "cell_type": "code",
   "execution_count": 6,
   "metadata": {},
   "outputs": [
    {
     "name": "stdout",
     "output_type": "stream",
     "text": [
      "AIRBYTE_SCHEMA\n"
     ]
    }
   ],
   "source": []
  },
  {
   "cell_type": "code",
   "execution_count": null,
   "metadata": {},
   "outputs": [],
   "source": []
  }
 ],
 "metadata": {
  "kernelspec": {
   "display_name": "Python 3.9.13 ('bootcamp')",
   "language": "python",
   "name": "python3"
  },
  "language_info": {
   "codemirror_mode": {
    "name": "ipython",
    "version": 3
   },
   "file_extension": ".py",
   "mimetype": "text/x-python",
   "name": "python",
   "nbconvert_exporter": "python",
   "pygments_lexer": "ipython3",
   "version": "3.9.13"
  },
  "orig_nbformat": 4,
  "vscode": {
   "interpreter": {
    "hash": "5f407b1b582e764af1de92d08149f3039a2cd11cf3017e26c4cc8e85f5896eb3"
   }
  }
 },
 "nbformat": 4,
 "nbformat_minor": 2
}
